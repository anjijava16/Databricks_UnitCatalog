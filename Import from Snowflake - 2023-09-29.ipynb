{
 "cells": [
  {
   "cell_type": "code",
   "execution_count": 0,
   "metadata": {
    "application/vnd.databricks.v1+cell": {
     "cellMetadata": {},
     "inputWidgets": {},
     "nuid": "39429527-d77e-4418-b33f-d93c5661769b",
     "showTitle": false,
     "title": ""
    }
   },
   "outputs": [],
   "source": [
    "# Use dbutils secrets to get Snowflake credentials.\n",
    "user = dbutils.secrets.get(\"data-warehouse\", \"<snowflake-user>\")\n",
    "password = dbutils.secrets.get(\"data-warehouse\", \"<snowflake-password>\")\n",
    "\n",
    "options = {\n",
    "  \"sfUrl\": \"<snowflake-url>\",\n",
    "  \"sfUser\": user,\n",
    "  \"sfPassword\": password,\n",
    "  \"sfDatabase\": \"<snowflake-database>\",\n",
    "  \"sfSchema\": \"<snowflake-schema>\",\n",
    "  \"sfWarehouse\": \"<snowflake-cluster>\"\n",
    "}"
   ]
  },
  {
   "cell_type": "code",
   "execution_count": 0,
   "metadata": {
    "application/vnd.databricks.v1+cell": {
     "cellMetadata": {},
     "inputWidgets": {},
     "nuid": "5198c9fc-5138-44ea-9468-443657a0e525",
     "showTitle": false,
     "title": ""
    }
   },
   "outputs": [],
   "source": [
    "# Generate a simple dataset containing five values and write the dataset to Snowflake.\n",
    "spark.range(5).write \\\n",
    "  .format(\"snowflake\") \\\n",
    "  .options(**options) \\\n",
    "  .option(\"dbtable\", \"table_name\") \\\n",
    "  .save()"
   ]
  },
  {
   "cell_type": "code",
   "execution_count": 0,
   "metadata": {
    "application/vnd.databricks.v1+cell": {
     "cellMetadata": {},
     "inputWidgets": {},
     "nuid": "e2d8e682-442b-408d-97c0-a9e43dd34510",
     "showTitle": false,
     "title": ""
    }
   },
   "outputs": [],
   "source": [
    "# Read the data written by the previous cell back.\n",
    "df = spark.read \\\n",
    "  .format(\"snowflake\") \\\n",
    "  .options(options) \\\n",
    "  .option(\"dbtable\", \"table_name\") \\\n",
    "  .load()\n",
    "\n",
    "display(df)"
   ]
  },
  {
   "cell_type": "code",
   "execution_count": 0,
   "metadata": {
    "application/vnd.databricks.v1+cell": {
     "cellMetadata": {},
     "inputWidgets": {},
     "nuid": "0c5305b0-a123-4602-ae26-bf223fbd74b9",
     "showTitle": false,
     "title": ""
    }
   },
   "outputs": [],
   "source": [
    "# Write the data to a Delta table\n",
    "\n",
    "df.write.format(\"delta\").saveAsTable(\"sf_ingest_table\")"
   ]
  }
 ],
 "metadata": {
  "application/vnd.databricks.v1+notebook": {
   "dashboards": [],
   "language": "python",
   "notebookMetadata": {
    "pythonIndentUnit": 2
   },
   "notebookName": "Import from Snowflake - 2023-09-29",
   "widgets": {}
  }
 },
 "nbformat": 4,
 "nbformat_minor": 0
}
