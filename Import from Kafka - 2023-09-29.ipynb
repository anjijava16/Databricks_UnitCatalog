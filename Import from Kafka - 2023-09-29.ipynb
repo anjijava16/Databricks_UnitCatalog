{
 "cells": [
  {
   "cell_type": "markdown",
   "metadata": {
    "application/vnd.databricks.v1+cell": {
     "cellMetadata": {},
     "inputWidgets": {},
     "nuid": "10bfd61f-3ba9-46f3-980e-df32208ef350",
     "showTitle": false,
     "title": ""
    }
   },
   "source": [
    "# Read data from Apache Kafka"
   ]
  },
  {
   "cell_type": "code",
   "execution_count": 0,
   "metadata": {
    "application/vnd.databricks.v1+cell": {
     "cellMetadata": {},
     "inputWidgets": {},
     "nuid": "88169e61-c403-41cd-aede-da00fca33d2b",
     "showTitle": false,
     "title": ""
    }
   },
   "outputs": [],
   "source": [
    "df = (spark.readStream\n",
    "  .format(\"kafka\")\n",
    "  .option(\"kafka.bootstrap.servers\", \"<server:ip>\")\n",
    "  .option(\"subscribe\", \"<topic>\")\n",
    "  .option(\"startingOffsets\", \"latest\")\n",
    "  .load()\n",
    ")"
   ]
  },
  {
   "cell_type": "markdown",
   "metadata": {
    "application/vnd.databricks.v1+cell": {
     "cellMetadata": {},
     "inputWidgets": {},
     "nuid": "00b6ac50-7590-479a-9a20-59ed0b444d33",
     "showTitle": false,
     "title": ""
    }
   },
   "source": [
    "# Write to a Delta table"
   ]
  },
  {
   "cell_type": "code",
   "execution_count": 0,
   "metadata": {
    "application/vnd.databricks.v1+cell": {
     "cellMetadata": {},
     "inputWidgets": {},
     "nuid": "417bf597-c9bb-40c8-9264-ebe27e9ccfc2",
     "showTitle": false,
     "title": ""
    }
   },
   "outputs": [],
   "source": [
    "(df.writeStream\n",
    "  .option(\"checkpointLocation\", \"<checkpoint_path>\")\n",
    "  .toTable(\"<table_name>\")`\n",
    ")"
   ]
  },
  {
   "cell_type": "markdown",
   "metadata": {
    "application/vnd.databricks.v1+cell": {
     "cellMetadata": {},
     "inputWidgets": {},
     "nuid": "ea32eaad-f2e1-449e-afbd-5d6530850093",
     "showTitle": false,
     "title": ""
    }
   },
   "source": [
    "# Write to a Kafka Sink"
   ]
  },
  {
   "cell_type": "code",
   "execution_count": 0,
   "metadata": {
    "application/vnd.databricks.v1+cell": {
     "cellMetadata": {},
     "inputWidgets": {},
     "nuid": "0b300cf4-2bac-4551-ae2d-c78469792bec",
     "showTitle": false,
     "title": ""
    }
   },
   "outputs": [],
   "source": [
    "(df.writeStream\n",
    "  .format(\"kafka\")\n",
    "  .option(\"kafka.bootstrap.servers\", \"<server:ip>\")\n",
    "  .option(\"topic\", \"<topic>\")\n",
    "  .option(\"checkpointLocation\", \"<checkpoint_path>\")\n",
    "  .start()\n",
    ")"
   ]
  }
 ],
 "metadata": {
  "application/vnd.databricks.v1+notebook": {
   "dashboards": [],
   "language": "python",
   "notebookMetadata": {
    "mostRecentlyExecutedCommandWithImplicitDF": {
     "commandId": 2387091059361206,
     "dataframes": [
      "_sqldf"
     ]
    },
    "pythonIndentUnit": 2
   },
   "notebookName": "Import from Kafka - 2023-09-29",
   "widgets": {}
  }
 },
 "nbformat": 4,
 "nbformat_minor": 0
}
