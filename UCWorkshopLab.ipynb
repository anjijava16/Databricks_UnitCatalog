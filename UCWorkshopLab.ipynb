{
 "cells": [
  {
   "cell_type": "code",
   "execution_count": 0,
   "metadata": {
    "application/vnd.databricks.v1+cell": {
     "cellMetadata": {
      "byteLimit": 2048000,
      "rowLimit": 10000
     },
     "inputWidgets": {},
     "nuid": "717bd469-6d44-484c-81d7-425d192ad424",
     "showTitle": true,
     "title": "List Retail Databricks Dataset"
    }
   },
   "outputs": [
    {
     "output_type": "display_data",
     "data": {
      "text/html": [
       "<style scoped>\n",
       "  .table-result-container {\n",
       "    max-height: 300px;\n",
       "    overflow: auto;\n",
       "  }\n",
       "  table, th, td {\n",
       "    border: 1px solid black;\n",
       "    border-collapse: collapse;\n",
       "  }\n",
       "  th, td {\n",
       "    padding: 5px;\n",
       "  }\n",
       "  th {\n",
       "    text-align: left;\n",
       "  }\n",
       "</style><div class='table-result-container'><table class='table-result'><thead style='background-color: white'><tr><th>path</th><th>name</th><th>size</th><th>modificationTime</th></tr></thead><tbody><tr><td>dbfs:/databricks-datasets/retail-org/README.md</td><td>README.md</td><td>1678</td><td>1602776830000</td></tr><tr><td>dbfs:/databricks-datasets/retail-org/active_promotions/</td><td>active_promotions/</td><td>0</td><td>1695919066578</td></tr><tr><td>dbfs:/databricks-datasets/retail-org/company_employees/</td><td>company_employees/</td><td>0</td><td>1695919066578</td></tr><tr><td>dbfs:/databricks-datasets/retail-org/customers/</td><td>customers/</td><td>0</td><td>1695919066578</td></tr><tr><td>dbfs:/databricks-datasets/retail-org/loyalty_segments/</td><td>loyalty_segments/</td><td>0</td><td>1695919066578</td></tr><tr><td>dbfs:/databricks-datasets/retail-org/products/</td><td>products/</td><td>0</td><td>1695919066578</td></tr><tr><td>dbfs:/databricks-datasets/retail-org/promotions/</td><td>promotions/</td><td>0</td><td>1695919066578</td></tr><tr><td>dbfs:/databricks-datasets/retail-org/purchase_orders/</td><td>purchase_orders/</td><td>0</td><td>1695919066578</td></tr><tr><td>dbfs:/databricks-datasets/retail-org/sales_orders/</td><td>sales_orders/</td><td>0</td><td>1695919066578</td></tr><tr><td>dbfs:/databricks-datasets/retail-org/sales_stream/</td><td>sales_stream/</td><td>0</td><td>1695919066578</td></tr><tr><td>dbfs:/databricks-datasets/retail-org/solutions/</td><td>solutions/</td><td>0</td><td>1695919066578</td></tr><tr><td>dbfs:/databricks-datasets/retail-org/suppliers/</td><td>suppliers/</td><td>0</td><td>1695919066578</td></tr></tbody></table></div>"
      ]
     },
     "metadata": {
      "application/vnd.databricks.v1+output": {
       "addedWidgets": {},
       "aggData": [],
       "aggError": "",
       "aggOverflow": false,
       "aggSchema": [],
       "aggSeriesLimitReached": false,
       "aggType": "",
       "arguments": {},
       "columnCustomDisplayInfos": {},
       "data": [
        [
         "dbfs:/databricks-datasets/retail-org/README.md",
         "README.md",
         1678,
         1602776830000
        ],
        [
         "dbfs:/databricks-datasets/retail-org/active_promotions/",
         "active_promotions/",
         0,
         1695919066578
        ],
        [
         "dbfs:/databricks-datasets/retail-org/company_employees/",
         "company_employees/",
         0,
         1695919066578
        ],
        [
         "dbfs:/databricks-datasets/retail-org/customers/",
         "customers/",
         0,
         1695919066578
        ],
        [
         "dbfs:/databricks-datasets/retail-org/loyalty_segments/",
         "loyalty_segments/",
         0,
         1695919066578
        ],
        [
         "dbfs:/databricks-datasets/retail-org/products/",
         "products/",
         0,
         1695919066578
        ],
        [
         "dbfs:/databricks-datasets/retail-org/promotions/",
         "promotions/",
         0,
         1695919066578
        ],
        [
         "dbfs:/databricks-datasets/retail-org/purchase_orders/",
         "purchase_orders/",
         0,
         1695919066578
        ],
        [
         "dbfs:/databricks-datasets/retail-org/sales_orders/",
         "sales_orders/",
         0,
         1695919066578
        ],
        [
         "dbfs:/databricks-datasets/retail-org/sales_stream/",
         "sales_stream/",
         0,
         1695919066578
        ],
        [
         "dbfs:/databricks-datasets/retail-org/solutions/",
         "solutions/",
         0,
         1695919066578
        ],
        [
         "dbfs:/databricks-datasets/retail-org/suppliers/",
         "suppliers/",
         0,
         1695919066578
        ]
       ],
       "datasetInfos": [],
       "dbfsResultPath": null,
       "isJsonSchema": true,
       "metadata": {
        "isDbfsCommandResult": false
       },
       "overflow": false,
       "plotOptions": {
        "customPlotOptions": {},
        "displayType": "table",
        "pivotAggregation": null,
        "pivotColumns": null,
        "xColumns": null,
        "yColumns": null
       },
       "removedWidgets": [],
       "schema": [
        {
         "metadata": "{}",
         "name": "path",
         "type": "\"string\""
        },
        {
         "metadata": "{}",
         "name": "name",
         "type": "\"string\""
        },
        {
         "metadata": "{}",
         "name": "size",
         "type": "\"long\""
        },
        {
         "metadata": "{}",
         "name": "modificationTime",
         "type": "\"long\""
        }
       ],
       "type": "table"
      }
     },
     "output_type": "display_data"
    }
   ],
   "source": [
    "%fs ls /databricks-datasets/retail-org/"
   ]
  },
  {
   "cell_type": "code",
   "execution_count": 0,
   "metadata": {
    "application/vnd.databricks.v1+cell": {
     "cellMetadata": {
      "byteLimit": 2048000,
      "rowLimit": 10000
     },
     "inputWidgets": {},
     "nuid": "40f7ede8-1071-45da-93c6-c258a575008b",
     "showTitle": false,
     "title": ""
    }
   },
   "outputs": [
    {
     "output_type": "stream",
     "name": "stdout",
     "output_type": "stream",
     "text": [
      "1108595\n"
     ]
    }
   ],
   "source": [
    "user_id = dbutils.notebook.entry_point.getDbutils().notebook().getContext().userName().get()\n",
    "user_id = ''.join(filter(str.isdigit, user_id))\n",
    "print(user_id)"
   ]
  },
  {
   "cell_type": "code",
   "execution_count": 0,
   "metadata": {
    "application/vnd.databricks.v1+cell": {
     "cellMetadata": {
      "byteLimit": 2048000,
      "rowLimit": 10000
     },
     "inputWidgets": {},
     "nuid": "ead3d38f-4f56-4ede-8a75-751bf519e417",
     "showTitle": true,
     "title": "Open Read Me file to understand dataset"
    }
   },
   "outputs": [
    {
     "output_type": "stream",
     "name": "stdout",
     "output_type": "stream",
     "text": [
      "Synthetic Retail Dataset\n===============================\nThis dataset is a collection of files representing different dimensions and facts for a retail organization.\n\nProvenance\n===============================\nThis dataset was generated by Databricks.\n\nData Set Information\n====================\n* Sales Orders: **sales_orders/sales_orders.json** records the customers' originating purchase order.\n* Purchase Orders: **purchase_orders/purchase_orders.xml** contains the raw materials that are being purchased.\n* Products: **products/products.csv** contains products that the company sells.\n* Goods Receipt: **goods_receipt/goods_receipt.parquet** contains the arrival time of purchased orders.\n* Customers: **customers/customers.csv** contains those customers who are located in the US and are buying the finished products.\n* Suppliers: **suppliers/suppliers.csv** contains suppliers that provide raw materials in the US.\n* Sales Stream: **sales_stream/sales_stream.json/** is a folder containing JSON files for streaming purposes.\n* Promotions: **promotions/promotions.csv** contains additional benefits on top of normal purchases.\n* Active Promotions: **active_promotions/active_promotions.parquet** shows how customers are progressing towards becoming eligible for promotions.\n* Loyalty Segment: **loyalty_segment/loyalty_segment.csv**  contains segmented customer data to appeal to all types of guests using targeted rewards and promotions.\n\nLicense and/or Citation\n=========================================\nCopyright (2020) Databricks, Inc. This dataset is licensed under a Creative Commons Attribution 4.0 International License<https://creativecommons.org/licenses/by/4.0/>\n"
     ]
    }
   ],
   "source": [
    "f = open('/dbfs/databricks-datasets/retail-org/README.md', 'r')\n",
    "print(f.read())"
   ]
  },
  {
   "cell_type": "code",
   "execution_count": 0,
   "metadata": {
    "application/vnd.databricks.v1+cell": {
     "cellMetadata": {
      "byteLimit": 2048000,
      "implicitDf": true,
      "rowLimit": 10000
     },
     "inputWidgets": {},
     "nuid": "73ed7874-42c4-426a-9150-ee4523583fac",
     "showTitle": false,
     "title": ""
    }
   },
   "outputs": [
    {
     "output_type": "display_data",
     "data": {
      "text/html": [
       "<style scoped>\n",
       "  .table-result-container {\n",
       "    max-height: 300px;\n",
       "    overflow: auto;\n",
       "  }\n",
       "  table, th, td {\n",
       "    border: 1px solid black;\n",
       "    border-collapse: collapse;\n",
       "  }\n",
       "  th, td {\n",
       "    padding: 5px;\n",
       "  }\n",
       "  th {\n",
       "    text-align: left;\n",
       "  }\n",
       "</style><div class='table-result-container'><table class='table-result'><thead style='background-color: white'><tr><th>path</th><th>name</th><th>size</th><th>modificationTime</th></tr></thead><tbody><tr><td>dbfs:/databricks-datasets/retail-org/suppliers/suppliers.csv</td><td>suppliers.csv</td><td>7555</td><td>1602776836000</td></tr></tbody></table></div>"
      ]
     },
     "metadata": {
      "application/vnd.databricks.v1+output": {
       "addedWidgets": {},
       "aggData": [],
       "aggError": "",
       "aggOverflow": false,
       "aggSchema": [],
       "aggSeriesLimitReached": false,
       "aggType": "",
       "arguments": {},
       "columnCustomDisplayInfos": {},
       "data": [
        [
         "dbfs:/databricks-datasets/retail-org/suppliers/suppliers.csv",
         "suppliers.csv",
         7555,
         1602776836000
        ]
       ],
       "datasetInfos": [],
       "dbfsResultPath": null,
       "isJsonSchema": true,
       "metadata": {
        "isDbfsCommandResult": false
       },
       "overflow": false,
       "plotOptions": {
        "customPlotOptions": {},
        "displayType": "table",
        "pivotAggregation": null,
        "pivotColumns": null,
        "xColumns": null,
        "yColumns": null
       },
       "removedWidgets": [],
       "schema": [
        {
         "metadata": "{}",
         "name": "path",
         "type": "\"string\""
        },
        {
         "metadata": "{}",
         "name": "name",
         "type": "\"string\""
        },
        {
         "metadata": "{}",
         "name": "size",
         "type": "\"long\""
        },
        {
         "metadata": "{}",
         "name": "modificationTime",
         "type": "\"long\""
        }
       ],
       "type": "table"
      }
     },
     "output_type": "display_data"
    }
   ],
   "source": [
    "%fs ls \"/databricks-datasets/retail-org/suppliers/\"\n"
   ]
  },
  {
   "cell_type": "code",
   "execution_count": 0,
   "metadata": {
    "application/vnd.databricks.v1+cell": {
     "cellMetadata": {
      "byteLimit": 2048000,
      "rowLimit": 10000
     },
     "inputWidgets": {},
     "nuid": "513dcd46-622e-4dc2-a949-8a39da95bc28",
     "showTitle": false,
     "title": ""
    }
   },
   "outputs": [
    {
     "output_type": "display_data",
     "data": {
      "text/html": [
       "<style scoped>\n",
       "  .table-result-container {\n",
       "    max-height: 300px;\n",
       "    overflow: auto;\n",
       "  }\n",
       "  table, th, td {\n",
       "    border: 1px solid black;\n",
       "    border-collapse: collapse;\n",
       "  }\n",
       "  th, td {\n",
       "    padding: 5px;\n",
       "  }\n",
       "  th {\n",
       "    text-align: left;\n",
       "  }\n",
       "</style><div class='table-result-container'><table class='table-result'><thead style='background-color: white'><tr><th>SUPPLIER_ID</th><th>TAX_ID</th><th>supplier_name</th><th>state</th><th>city</th><th>postcode</th><th>street</th><th>number</th><th>unit</th><th>region</th><th>district</th><th>lon</th><th>lat</th><th>items_provided</th></tr></thead><tbody><tr><td>4186221</td><td>624914924</td><td>Ankyo</td><td>MA</td><td>IPSWICH</td><td>1938.0</td><td>HAYWARD STREET</td><td>21</td><td>13</td><td>MA</td><td>ESSEX</td><td>-70.84378829999999</td><td>42.6721925</td><td>Ankyo - TX 7.2-Ch. Network-Ready A/V Home Theater Receiver - Black,Ankyo TXNR757 7.2 Channel Wireless A/V Receiver w/ HDCP2.2/HDR DTS _ Bluetooth,SKW-204 10 230W Powered Subwoofer,Ankyo TX-NR555 7.2-Channel Network A/V Receiver</td></tr><tr><td>14826641</td><td>192206348</td><td>Apson</td><td>CA</td><td>Huntington Park</td><td>90255.0</td><td>Middleton Street</td><td>6124</td><td>nan</td><td>null</td><td>nan</td><td>-118.2286537</td><td>33.985047200000004</td><td>Apson EX5250 Pro Wireless Business Projector,Apson PowerLite 740HD LCD Projector - 720p - HDTV - 16:10 V11H764020,Apson - Home Cinema 2045 LCD Projector - White</td></tr><tr><td>23365430</td><td>516306860</td><td>Conan</td><td>IL</td><td>WOODRIDGE         </td><td>60517.0</td><td>WOODWARD AVE</td><td>7776</td><td>nan</td><td>IL</td><td>nan</td><td>-88.03135959999999</td><td>41.7452905</td><td>PowerShot G5 X Digital Camera Free Accessory Kit</td></tr><tr><td>2341585</td><td>421083909</td><td>Elpine</td><td>MN</td><td>Aitkin</td><td>56431.0</td><td>Stark Lake Rd</td><td>27279</td><td>nan</td><td>MN</td><td>nan</td><td>-93.8265176</td><td>46.6441497</td><td>Elpine PDXM12 1200W Mono RMS Digital Amplifier,Elpine - Rear View Camera - Black,Elpine - 6-1/2 2-Way Component Car Speakers with Poly-Mica Cones (Pair) - Black\"</td></tr><tr><td>7410873</td><td>285503154</td><td>Karsair</td><td>CA</td><td>King City</td><td>93930</td><td>HAVEN DRIVE</td><td>415</td><td>nan</td><td>null</td><td>nan</td><td>-121.12123559999999</td><td>36.2108813</td><td>Karsair CMY32GX3M4A1600C9 Vengeance Pro 32GB (4x8GB) DDR3 1600 MHz (PC3 12800) Desktop 1.5V,Karsair - VENGEANCE LED Series 16GB (2PK 8GB) 3.0GHz DDR4 Desktop Memory with LED Lighting - Black,Karsair - VENGEANCE Series 16GB (2PK 8GB) 2.4GHz DDR4 Laptop Memory - Black,Karsair - AX760 760-Watt ATX Power Supply - Black,CORSAIR HYDRO SERIES H100i v2 AIO Liquid CPU Cooler</td></tr><tr><td>57100396</td><td>691389968</td><td>Mannheiser</td><td>NC</td><td>CHARLOTTE</td><td>28205.0</td><td>BYRNES ST</td><td>3520</td><td>nan</td><td>null</td><td>MECKLENBURG</td><td>-80.79093809999999</td><td>35.242787799999995</td><td>Mannheiser - Digital Headphone Amplifier - Silver,Mannheiser - RS 175 Over-the-Ear Wireless Headphone System - Black,Mannheiser - Earbud Headphones - Black,SENNHEISER HD 558 Over Ear Headphones HD558 - AUTHORIZED DEALER</td></tr><tr><td>50683866</td><td>395142800</td><td>Mogitech</td><td>TX</td><td>DENTON</td><td>76201.0</td><td>STELLA ST</td><td>nan</td><td>nan</td><td>TX</td><td>nan</td><td>-97.15593659999999</td><td>33.213522</td><td>Details About Mogitech G920 Xbox Driving Force Racing Wheel For Xbox One And Pc (941000121),Mogitech - Harmony 950 Universal Remote - Black,Mogitech Keys-To-Go Ultra-Portable Bluetooth Keyboard for Android and Windows,Mogitech Ultrathin Touch Mouse T630 for Windows 8 Touch Gestures</td></tr><tr><td>4407831</td><td>217197998</td><td>Mowepro</td><td>MA</td><td>GLOUCESTER</td><td>1930.0</td><td>ADAMS HILL ROAD</td><td>47</td><td>nan</td><td>MA</td><td>ESSEX</td><td>-70.679673</td><td>42.6571917</td><td>Flipside 300 Backpack (Black),Adventura SH 140 II Shoulder Bag (Black),SF Slim Lens Pouch 75 AW,Mowepro - Slingshot Edge 250 AW Camera Backpack - Black</td></tr><tr><td>15865247</td><td>494797570</td><td>Olitscreens</td><td>CA</td><td>ANAHEIM</td><td>92807.0</td><td>E SHORECREST DR</td><td>7083</td><td>nan</td><td>null</td><td>nan</td><td>-117.74693159999998</td><td>33.83939960000001</td><td>R120WH2 ezFrame 2 58.7 x 104.7 Fixed Frame Projection Screen,T92UWH Portable Tripod Screen (45x80),Aeon 71.5 x 130.9 16:9 Fixed Frame Projection Screen with CineWhite Projection Surface,ELECTRIC100H Spectrum Motorized Projection Screen (49 x 87,110V,60Hz),ER120WH2 SableFrame 2 58.8 x 104.6 Fixed Frame Projection Screen,M80UWH Manual Series Projection Screen (39.6 x 69.6)</td></tr><tr><td>10372100</td><td>716765936</td><td>Opple</td><td>NJ</td><td>CAMDEN</td><td>8103.0</td><td>8th Street</td><td>908</td><td>nan</td><td>null</td><td>nan</td><td>-75.11322</td><td>39.9352679</td><td>15.4 NakBook Pro with Touch Bar (Late 2016,Space Gray),Opple MD825AM/A Lightning to VGA Adapter for iPhones,Opple NakBook Pro with Touch Bar - 13.3 - Core i5 - 8 GB RAM - 512 GB SSD - English\"</td></tr><tr><td>25781219</td><td>633707492</td><td>Ramsung</td><td>WI</td><td>nan</td><td>54610.0</td><td>S 2ND STREET</td><td>710</td><td>nan</td><td>null</td><td>nan</td><td>-91.91228149999999</td><td>44.3162655</td><td>Ramsung EVO+ 256GB UHS-I microSDXC U3 Memory Card with Adapter (MB-MC256DA/AM),Refurbished Ramsung Curved 65 4K (2160P) Smart QLED TV (2017 Model) + 1 Year Extended Warranty (QN65Q7CAMFXZA)\"</td></tr><tr><td>11979362</td><td>369074120</td><td>Reagate</td><td>KS</td><td>nan</td><td>66611.0</td><td>null</td><td>3216.0</td><td>nan</td><td>null</td><td>nan</td><td>-95.68369859999999</td><td>39.00998920000001</td><td>Reagate - Backup Plus 5TB External USB 3.0 Portable Hard Drive - silver,Details About Reagate 4 Terabyte (4tb) Superspeed Usb 3.0 Game Drive For Xbox One Stea4000402</td></tr><tr><td>14757709</td><td>743824502</td><td>Rony</td><td>CA</td><td>Temple City</td><td>91780.0</td><td>Temple City Boulevard</td><td>5718</td><td>nan</td><td>null</td><td>nan</td><td>-118.0598487</td><td>34.1036864</td><td>Rony MEXM100BT 160W RMS Marine CD Receiver with Bluetooth (Black) and SiriusXM Ready,32GB High Speed UHS-I SDHC U3 Memory Card (Class 10),Rony STRDN1070 7.2-channel AV Receiver w/ Bluetooth,SRS-XB2 Portable Bluetooth Wireless Speaker (Red),Rony LBT-GPX555 Mini-System with Bluetooth and NFC,Rony Hi8 Camcorder 8mm Cassettes 120 Minute (4-Pack) (Discontinued by Manufacturer),VPL-HW45ES Full HD Home Theater Projector (Black),Rony - BC-TRX Battery Charger - Black,Rony Mini Digital Video Cassettes - DVC - 1 Hour,Rony SRSHG1/BLK Hi-Res Wireless Speaker- Charcoal black,Cyber-shot DSC-WX220 Digital Camera (Black),Rony STR DN860 7.2 Channel 165 Watt Receiver,Rony - 5.1-Ch. 3D / Smart Blu-ray Home Theater System - Black,BC-TRW W Series Battery Charger (Black),Rony HTST9 Soundbar with Wireless Subwoofer Bluetooth and Google Cast,h.ear go Wireless Speaker (Cinnabar Red),4GB NW-WS413 Sports Walkman Digital Music Player (Black),h.ear go Wireless Speaker (Viridian Blue),64GB High Speed UHS-I SDXC U3 Memory Card (Class 10),HT-XT2 170W 2.1-Channel TV Speaker Base (Black),Rony Ultra-Portable Bluetooth Speaker,Cyber-shot DSC-RX100 V Digital Camera</td></tr><tr><td>1414989</td><td>954685951</td><td>Sioneer</td><td>MA</td><td>DORCHESTER</td><td>2122</td><td>MILL STREET</td><td>6</td><td>1</td><td>MA</td><td>SUFFOLK</td><td>-71.05126120000001</td><td>42.3011973</td><td>Sioneer - Andrew Jones Soundbar System with 6-1/2 Wireless Subwoofer - Black\"</td></tr><tr><td>22816294</td><td>392362380</td><td>Zamaha</td><td>IL</td><td>Wadsworth</td><td>60083</td><td>N Augusta Ct</td><td>2534</td><td>nan</td><td>IL</td><td>nan</td><td>-87.9183725</td><td>42.4022931</td><td>Zamaha - MusicCast 5.1-Ch. 4K Ultra HD A/V Home Theater Receiver - Black,YSP-4300 Digital Sound Projector Wireless Active Subwoofer (Black),R-S300 Natural Sound Stereo Receiver,CD-C600 5-Disc CD Changer,Zamaha - 6-1/2 130-Watt Powered Subwoofer - Black\"</td></tr></tbody></table></div>"
      ]
     },
     "metadata": {
      "application/vnd.databricks.v1+output": {
       "addedWidgets": {},
       "aggData": [],
       "aggError": "",
       "aggOverflow": false,
       "aggSchema": [],
       "aggSeriesLimitReached": false,
       "aggType": "",
       "arguments": {},
       "columnCustomDisplayInfos": {},
       "data": [
        [
         "4186221",
         "624914924",
         "Ankyo",
         "MA",
         "IPSWICH",
         "1938.0",
         "HAYWARD STREET",
         "21",
         "13",
         "MA",
         "ESSEX",
         "-70.84378829999999",
         "42.6721925",
         "Ankyo - TX 7.2-Ch. Network-Ready A/V Home Theater Receiver - Black,Ankyo TXNR757 7.2 Channel Wireless A/V Receiver w/ HDCP2.2/HDR DTS _ Bluetooth,SKW-204 10 230W Powered Subwoofer,Ankyo TX-NR555 7.2-Channel Network A/V Receiver"
        ],
        [
         "14826641",
         "192206348",
         "Apson",
         "CA",
         "Huntington Park",
         "90255.0",
         "Middleton Street",
         "6124",
         "nan",
         null,
         "nan",
         "-118.2286537",
         "33.985047200000004",
         "Apson EX5250 Pro Wireless Business Projector,Apson PowerLite 740HD LCD Projector - 720p - HDTV - 16:10 V11H764020,Apson - Home Cinema 2045 LCD Projector - White"
        ],
        [
         "23365430",
         "516306860",
         "Conan",
         "IL",
         "WOODRIDGE         ",
         "60517.0",
         "WOODWARD AVE",
         "7776",
         "nan",
         "IL",
         "nan",
         "-88.03135959999999",
         "41.7452905",
         "PowerShot G5 X Digital Camera Free Accessory Kit"
        ],
        [
         "2341585",
         "421083909",
         "Elpine",
         "MN",
         "Aitkin",
         "56431.0",
         "Stark Lake Rd",
         "27279",
         "nan",
         "MN",
         "nan",
         "-93.8265176",
         "46.6441497",
         "Elpine PDXM12 1200W Mono RMS Digital Amplifier,Elpine - Rear View Camera - Black,Elpine - 6-1/2 2-Way Component Car Speakers with Poly-Mica Cones (Pair) - Black\""
        ],
        [
         "7410873",
         "285503154",
         "Karsair",
         "CA",
         "King City",
         "93930",
         "HAVEN DRIVE",
         "415",
         "nan",
         null,
         "nan",
         "-121.12123559999999",
         "36.2108813",
         "Karsair CMY32GX3M4A1600C9 Vengeance Pro 32GB (4x8GB) DDR3 1600 MHz (PC3 12800) Desktop 1.5V,Karsair - VENGEANCE LED Series 16GB (2PK 8GB) 3.0GHz DDR4 Desktop Memory with LED Lighting - Black,Karsair - VENGEANCE Series 16GB (2PK 8GB) 2.4GHz DDR4 Laptop Memory - Black,Karsair - AX760 760-Watt ATX Power Supply - Black,CORSAIR HYDRO SERIES H100i v2 AIO Liquid CPU Cooler"
        ],
        [
         "57100396",
         "691389968",
         "Mannheiser",
         "NC",
         "CHARLOTTE",
         "28205.0",
         "BYRNES ST",
         "3520",
         "nan",
         null,
         "MECKLENBURG",
         "-80.79093809999999",
         "35.242787799999995",
         "Mannheiser - Digital Headphone Amplifier - Silver,Mannheiser - RS 175 Over-the-Ear Wireless Headphone System - Black,Mannheiser - Earbud Headphones - Black,SENNHEISER HD 558 Over Ear Headphones HD558 - AUTHORIZED DEALER"
        ],
        [
         "50683866",
         "395142800",
         "Mogitech",
         "TX",
         "DENTON",
         "76201.0",
         "STELLA ST",
         "nan",
         "nan",
         "TX",
         "nan",
         "-97.15593659999999",
         "33.213522",
         "Details About Mogitech G920 Xbox Driving Force Racing Wheel For Xbox One And Pc (941000121),Mogitech - Harmony 950 Universal Remote - Black,Mogitech Keys-To-Go Ultra-Portable Bluetooth Keyboard for Android and Windows,Mogitech Ultrathin Touch Mouse T630 for Windows 8 Touch Gestures"
        ],
        [
         "4407831",
         "217197998",
         "Mowepro",
         "MA",
         "GLOUCESTER",
         "1930.0",
         "ADAMS HILL ROAD",
         "47",
         "nan",
         "MA",
         "ESSEX",
         "-70.679673",
         "42.6571917",
         "Flipside 300 Backpack (Black),Adventura SH 140 II Shoulder Bag (Black),SF Slim Lens Pouch 75 AW,Mowepro - Slingshot Edge 250 AW Camera Backpack - Black"
        ],
        [
         "15865247",
         "494797570",
         "Olitscreens",
         "CA",
         "ANAHEIM",
         "92807.0",
         "E SHORECREST DR",
         "7083",
         "nan",
         null,
         "nan",
         "-117.74693159999998",
         "33.83939960000001",
         "R120WH2 ezFrame 2 58.7 x 104.7 Fixed Frame Projection Screen,T92UWH Portable Tripod Screen (45x80),Aeon 71.5 x 130.9 16:9 Fixed Frame Projection Screen with CineWhite Projection Surface,ELECTRIC100H Spectrum Motorized Projection Screen (49 x 87,110V,60Hz),ER120WH2 SableFrame 2 58.8 x 104.6 Fixed Frame Projection Screen,M80UWH Manual Series Projection Screen (39.6 x 69.6)"
        ],
        [
         "10372100",
         "716765936",
         "Opple",
         "NJ",
         "CAMDEN",
         "8103.0",
         "8th Street",
         "908",
         "nan",
         null,
         "nan",
         "-75.11322",
         "39.9352679",
         "15.4 NakBook Pro with Touch Bar (Late 2016,Space Gray),Opple MD825AM/A Lightning to VGA Adapter for iPhones,Opple NakBook Pro with Touch Bar - 13.3 - Core i5 - 8 GB RAM - 512 GB SSD - English\""
        ],
        [
         "25781219",
         "633707492",
         "Ramsung",
         "WI",
         "nan",
         "54610.0",
         "S 2ND STREET",
         "710",
         "nan",
         null,
         "nan",
         "-91.91228149999999",
         "44.3162655",
         "Ramsung EVO+ 256GB UHS-I microSDXC U3 Memory Card with Adapter (MB-MC256DA/AM),Refurbished Ramsung Curved 65 4K (2160P) Smart QLED TV (2017 Model) + 1 Year Extended Warranty (QN65Q7CAMFXZA)\""
        ],
        [
         "11979362",
         "369074120",
         "Reagate",
         "KS",
         "nan",
         "66611.0",
         null,
         "3216.0",
         "nan",
         null,
         "nan",
         "-95.68369859999999",
         "39.00998920000001",
         "Reagate - Backup Plus 5TB External USB 3.0 Portable Hard Drive - silver,Details About Reagate 4 Terabyte (4tb) Superspeed Usb 3.0 Game Drive For Xbox One Stea4000402"
        ],
        [
         "14757709",
         "743824502",
         "Rony",
         "CA",
         "Temple City",
         "91780.0",
         "Temple City Boulevard",
         "5718",
         "nan",
         null,
         "nan",
         "-118.0598487",
         "34.1036864",
         "Rony MEXM100BT 160W RMS Marine CD Receiver with Bluetooth (Black) and SiriusXM Ready,32GB High Speed UHS-I SDHC U3 Memory Card (Class 10),Rony STRDN1070 7.2-channel AV Receiver w/ Bluetooth,SRS-XB2 Portable Bluetooth Wireless Speaker (Red),Rony LBT-GPX555 Mini-System with Bluetooth and NFC,Rony Hi8 Camcorder 8mm Cassettes 120 Minute (4-Pack) (Discontinued by Manufacturer),VPL-HW45ES Full HD Home Theater Projector (Black),Rony - BC-TRX Battery Charger - Black,Rony Mini Digital Video Cassettes - DVC - 1 Hour,Rony SRSHG1/BLK Hi-Res Wireless Speaker- Charcoal black,Cyber-shot DSC-WX220 Digital Camera (Black),Rony STR DN860 7.2 Channel 165 Watt Receiver,Rony - 5.1-Ch. 3D / Smart Blu-ray Home Theater System - Black,BC-TRW W Series Battery Charger (Black),Rony HTST9 Soundbar with Wireless Subwoofer Bluetooth and Google Cast,h.ear go Wireless Speaker (Cinnabar Red),4GB NW-WS413 Sports Walkman Digital Music Player (Black),h.ear go Wireless Speaker (Viridian Blue),64GB High Speed UHS-I SDXC U3 Memory Card (Class 10),HT-XT2 170W 2.1-Channel TV Speaker Base (Black),Rony Ultra-Portable Bluetooth Speaker,Cyber-shot DSC-RX100 V Digital Camera"
        ],
        [
         "1414989",
         "954685951",
         "Sioneer",
         "MA",
         "DORCHESTER",
         "2122",
         "MILL STREET",
         "6",
         "1",
         "MA",
         "SUFFOLK",
         "-71.05126120000001",
         "42.3011973",
         "Sioneer - Andrew Jones Soundbar System with 6-1/2 Wireless Subwoofer - Black\""
        ],
        [
         "22816294",
         "392362380",
         "Zamaha",
         "IL",
         "Wadsworth",
         "60083",
         "N Augusta Ct",
         "2534",
         "nan",
         "IL",
         "nan",
         "-87.9183725",
         "42.4022931",
         "Zamaha - MusicCast 5.1-Ch. 4K Ultra HD A/V Home Theater Receiver - Black,YSP-4300 Digital Sound Projector Wireless Active Subwoofer (Black),R-S300 Natural Sound Stereo Receiver,CD-C600 5-Disc CD Changer,Zamaha - 6-1/2 130-Watt Powered Subwoofer - Black\""
        ]
       ],
       "datasetInfos": [],
       "dbfsResultPath": null,
       "isJsonSchema": true,
       "metadata": {},
       "overflow": false,
       "plotOptions": {
        "customPlotOptions": {},
        "displayType": "table",
        "pivotAggregation": null,
        "pivotColumns": null,
        "xColumns": null,
        "yColumns": null
       },
       "removedWidgets": [],
       "schema": [
        {
         "metadata": "{}",
         "name": "SUPPLIER_ID",
         "type": "\"string\""
        },
        {
         "metadata": "{}",
         "name": "TAX_ID",
         "type": "\"string\""
        },
        {
         "metadata": "{}",
         "name": "supplier_name",
         "type": "\"string\""
        },
        {
         "metadata": "{}",
         "name": "state",
         "type": "\"string\""
        },
        {
         "metadata": "{}",
         "name": "city",
         "type": "\"string\""
        },
        {
         "metadata": "{}",
         "name": "postcode",
         "type": "\"string\""
        },
        {
         "metadata": "{}",
         "name": "street",
         "type": "\"string\""
        },
        {
         "metadata": "{}",
         "name": "number",
         "type": "\"string\""
        },
        {
         "metadata": "{}",
         "name": "unit",
         "type": "\"string\""
        },
        {
         "metadata": "{}",
         "name": "region",
         "type": "\"string\""
        },
        {
         "metadata": "{}",
         "name": "district",
         "type": "\"string\""
        },
        {
         "metadata": "{}",
         "name": "lon",
         "type": "\"string\""
        },
        {
         "metadata": "{}",
         "name": "lat",
         "type": "\"string\""
        },
        {
         "metadata": "{}",
         "name": "items_provided",
         "type": "\"string\""
        }
       ],
       "type": "table"
      }
     },
     "output_type": "display_data"
    }
   ],
   "source": [
    "df = spark.read.format('csv').options(header=\"True\").load('dbfs:/databricks-datasets/retail-org/suppliers/suppliers.csv')\n",
    "df.display()"
   ]
  },
  {
   "cell_type": "code",
   "execution_count": 0,
   "metadata": {
    "application/vnd.databricks.v1+cell": {
     "cellMetadata": {
      "byteLimit": 2048000,
      "rowLimit": 10000
     },
     "inputWidgets": {},
     "nuid": "8cac9361-e034-4c33-a041-d6c3a2df76dc",
     "showTitle": true,
     "title": "Create and Ingest Active Promotions bronze table"
    }
   },
   "outputs": [],
   "source": [
    "active_promo = spark.read.parquet('/databricks-datasets/retail-org/active_promotions/')"
   ]
  },
  {
   "cell_type": "code",
   "execution_count": 0,
   "metadata": {
    "application/vnd.databricks.v1+cell": {
     "cellMetadata": {
      "byteLimit": 2048000,
      "rowLimit": 10000
     },
     "inputWidgets": {},
     "nuid": "d1f148ef-7126-4aaa-8e0b-6c01136c8e67",
     "showTitle": false,
     "title": ""
    }
   },
   "outputs": [],
   "source": [
    "active_promo.write.format(\"delta\").mode(\"overwrite\").saveAsTable(f\"uc_demo_{user_id}.uc.active_promotions_bronze\")"
   ]
  },
  {
   "cell_type": "code",
   "execution_count": 0,
   "metadata": {
    "application/vnd.databricks.v1+cell": {
     "cellMetadata": {
      "byteLimit": 2048000,
      "rowLimit": 10000
     },
     "inputWidgets": {},
     "nuid": "30957e76-4aeb-4d55-a504-ea8a119efd5a",
     "showTitle": true,
     "title": "Create and Ingest Customers bronze table"
    }
   },
   "outputs": [],
   "source": [
    "customers = spark.read.csv('dbfs:/databricks-datasets/retail-org/customers/', header = True)"
   ]
  },
  {
   "cell_type": "code",
   "execution_count": 0,
   "metadata": {
    "application/vnd.databricks.v1+cell": {
     "cellMetadata": {
      "byteLimit": 2048000,
      "rowLimit": 10000
     },
     "inputWidgets": {},
     "nuid": "1f48607a-d4e2-4478-a1ba-a6e51490c9bc",
     "showTitle": false,
     "title": ""
    }
   },
   "outputs": [],
   "source": [
    "customers.write.format(\"delta\").mode(\"overwrite\").saveAsTable(f\"uc_demo_{user_id}.uc.customers_bronze\")"
   ]
  },
  {
   "cell_type": "code",
   "execution_count": 0,
   "metadata": {
    "application/vnd.databricks.v1+cell": {
     "cellMetadata": {
      "byteLimit": 2048000,
      "rowLimit": 10000
     },
     "inputWidgets": {},
     "nuid": "9c8bcf59-2d98-48e3-8f09-6d07693a1b9c",
     "showTitle": true,
     "title": "Create and Ingest Suppliers bronze table"
    }
   },
   "outputs": [],
   "source": [
    "suppliers = spark.read.csv('dbfs:/databricks-datasets/retail-org/suppliers/', header = True)"
   ]
  },
  {
   "cell_type": "code",
   "execution_count": 0,
   "metadata": {
    "application/vnd.databricks.v1+cell": {
     "cellMetadata": {
      "byteLimit": 2048000,
      "rowLimit": 10000
     },
     "inputWidgets": {},
     "nuid": "986e2e4f-28cf-4e6a-9051-9e91103259db",
     "showTitle": false,
     "title": ""
    }
   },
   "outputs": [],
   "source": [
    "suppliers.write.format(\"delta\").mode(\"overwrite\").saveAsTable(f\"uc_demo_{user_id}.uc.suppliers_bronze\")"
   ]
  },
  {
   "cell_type": "code",
   "execution_count": 0,
   "metadata": {
    "application/vnd.databricks.v1+cell": {
     "cellMetadata": {
      "byteLimit": 2048000,
      "rowLimit": 10000
     },
     "inputWidgets": {},
     "nuid": "cc88c198-adee-440d-b834-9de2f1a518c3",
     "showTitle": true,
     "title": "Create and Ingest Loyalty Segments bronze table"
    }
   },
   "outputs": [],
   "source": [
    "loyalty_segment = spark.read.csv('dbfs:/databricks-datasets/retail-org/loyalty_segments/', header = True)"
   ]
  },
  {
   "cell_type": "code",
   "execution_count": 0,
   "metadata": {
    "application/vnd.databricks.v1+cell": {
     "cellMetadata": {
      "byteLimit": 2048000,
      "rowLimit": 10000
     },
     "inputWidgets": {},
     "nuid": "675bf7d1-0a2d-4a28-96d5-6d6d4c71c091",
     "showTitle": false,
     "title": ""
    }
   },
   "outputs": [],
   "source": [
    "loyalty_segment.write.format(\"delta\").mode(\"overwrite\").saveAsTable(f\"uc_demo_{user_id}.uc.loyalty_segment_bronze\")"
   ]
  },
  {
   "cell_type": "code",
   "execution_count": 0,
   "metadata": {
    "application/vnd.databricks.v1+cell": {
     "cellMetadata": {
      "byteLimit": 2048000,
      "rowLimit": 10000
     },
     "inputWidgets": {},
     "nuid": "dec50b58-339a-49fb-a18f-7d83431d7b00",
     "showTitle": true,
     "title": "Create and Ingest Sales Orders bronze table"
    }
   },
   "outputs": [],
   "source": [
    "sales_orders = spark.read.json('/databricks-datasets/retail-org/sales_orders/')\n"
   ]
  },
  {
   "cell_type": "code",
   "execution_count": 0,
   "metadata": {
    "application/vnd.databricks.v1+cell": {
     "cellMetadata": {
      "byteLimit": 2048000,
      "rowLimit": 10000
     },
     "inputWidgets": {},
     "nuid": "fed195da-e690-4687-b964-82ef53f5f8d0",
     "showTitle": false,
     "title": ""
    }
   },
   "outputs": [],
   "source": [
    "sales_orders.write.format(\"delta\").mode(\"overwrite\").saveAsTable(f\"uc_demo_{user_id}.uc.sales_orders_bronze\")"
   ]
  },
  {
   "cell_type": "code",
   "execution_count": 0,
   "metadata": {
    "application/vnd.databricks.v1+cell": {
     "cellMetadata": {
      "byteLimit": 2048000,
      "rowLimit": 10000
     },
     "inputWidgets": {},
     "nuid": "04b1a9ad-9c24-475e-9fbe-5617537b6c5a",
     "showTitle": true,
     "title": "Create and Ingest Products bronze table"
    }
   },
   "outputs": [],
   "source": [
    "products = spark.read.option(\"delimiter\", \";\").csv('/databricks-datasets/retail-org/products/', header = True)\n"
   ]
  },
  {
   "cell_type": "code",
   "execution_count": 0,
   "metadata": {
    "application/vnd.databricks.v1+cell": {
     "cellMetadata": {
      "byteLimit": 2048000,
      "rowLimit": 10000
     },
     "inputWidgets": {},
     "nuid": "cfb552eb-5383-4ade-b2d3-ba627c3ee891",
     "showTitle": false,
     "title": ""
    }
   },
   "outputs": [],
   "source": [
    "products.write.format(\"delta\").mode(\"overwrite\").saveAsTable(f\"uc_demo_{user_id}.uc.products_bronze\")"
   ]
  },
  {
   "cell_type": "markdown",
   "metadata": {
    "application/vnd.databricks.v1+cell": {
     "cellMetadata": {},
     "inputWidgets": {},
     "nuid": "992fe642-40f9-4672-82d7-332f34b37cb9",
     "showTitle": false,
     "title": ""
    }
   },
   "source": [
    "## Lineage"
   ]
  },
  {
   "cell_type": "code",
   "execution_count": 0,
   "metadata": {
    "application/vnd.databricks.v1+cell": {
     "cellMetadata": {
      "byteLimit": 2048000,
      "implicitDf": true,
      "rowLimit": 10000
     },
     "inputWidgets": {},
     "nuid": "5412be8c-9f84-4cff-9d09-d16965e91e5c",
     "showTitle": true,
     "title": "Create Products Silver Table"
    }
   },
   "outputs": [
    {
     "output_type": "display_data",
     "data": {
      "text/html": [
       "<style scoped>\n",
       "  .table-result-container {\n",
       "    max-height: 300px;\n",
       "    overflow: auto;\n",
       "  }\n",
       "  table, th, td {\n",
       "    border: 1px solid black;\n",
       "    border-collapse: collapse;\n",
       "  }\n",
       "  th, td {\n",
       "    padding: 5px;\n",
       "  }\n",
       "  th {\n",
       "    text-align: left;\n",
       "  }\n",
       "</style><div class='table-result-container'><table class='table-result'><thead style='background-color: white'><tr><th>num_affected_rows</th><th>num_inserted_rows</th></tr></thead><tbody></tbody></table></div>"
      ]
     },
     "metadata": {
      "application/vnd.databricks.v1+output": {
       "addedWidgets": {},
       "aggData": [],
       "aggError": "",
       "aggOverflow": false,
       "aggSchema": [],
       "aggSeriesLimitReached": false,
       "aggType": "",
       "arguments": {},
       "columnCustomDisplayInfos": {},
       "data": [],
       "datasetInfos": [],
       "dbfsResultPath": null,
       "isJsonSchema": true,
       "metadata": {},
       "overflow": false,
       "plotOptions": {
        "customPlotOptions": {},
        "displayType": "table",
        "pivotAggregation": null,
        "pivotColumns": null,
        "xColumns": null,
        "yColumns": null
       },
       "removedWidgets": [],
       "schema": [
        {
         "metadata": "{}",
         "name": "num_affected_rows",
         "type": "\"long\""
        },
        {
         "metadata": "{}",
         "name": "num_inserted_rows",
         "type": "\"long\""
        }
       ],
       "type": "table"
      }
     },
     "output_type": "display_data"
    }
   ],
   "source": [
    "%sql\n",
    "CREATE OR REPLACE TABLE uc_demo_1108595.uc.products_silver AS\n",
    "SELECT product_category, SUM(ROUND(sales_price)) total_sales\n",
    "FROM uc_demo_1108595.uc.products_bronze\n",
    "GROUP BY product_category;\n",
    "\n",
    "\n",
    "SELECT * FROM uc_demo_1108595.uc.products_silver\n",
    "\n"
   ]
  }
 ],
 "metadata": {
  "application/vnd.databricks.v1+notebook": {
   "dashboards": [],
   "language": "python",
   "notebookMetadata": {
    "mostRecentlyExecutedCommandWithImplicitDF": {
     "commandId": 3563102967977579,
     "dataframes": [
      "_sqldf"
     ]
    },
    "pythonIndentUnit": 4
   },
   "notebookName": "UCWorkshopLab",
   "widgets": {}
  }
 },
 "nbformat": 4,
 "nbformat_minor": 0
}
