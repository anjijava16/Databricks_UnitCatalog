{
 "cells": [
  {
   "cell_type": "markdown",
   "metadata": {
    "application/vnd.databricks.v1+cell": {
     "cellMetadata": {},
     "inputWidgets": {},
     "nuid": "7f67fe5e-5529-4dfb-aa32-722dbc804de3",
     "showTitle": false,
     "title": ""
    }
   },
   "source": [
    "\n",
    "# Load data from Postgres to Delta Lake\n",
    "\n",
    "This notebook shows you how to import data from JDBC Postgres databases into a Delta Lake table using Python."
   ]
  },
  {
   "cell_type": "markdown",
   "metadata": {
    "application/vnd.databricks.v1+cell": {
     "cellMetadata": {},
     "inputWidgets": {},
     "nuid": "064e6786-c940-4ee4-a4e9-ae038155a1da",
     "showTitle": false,
     "title": ""
    }
   },
   "source": [
    "\n",
    "## Step 1: Connection information\n",
    "\n",
    "First define some variables to programmatically create these connections.\n",
    "\n",
    "Replace all the variables in angle brackets `<>` below with the corresponding information."
   ]
  },
  {
   "cell_type": "code",
   "execution_count": 0,
   "metadata": {
    "application/vnd.databricks.v1+cell": {
     "cellMetadata": {},
     "inputWidgets": {},
     "nuid": "c86509b5-3bd9-412e-ab8f-b109dd1154d2",
     "showTitle": false,
     "title": ""
    }
   },
   "outputs": [],
   "source": [
    "driver = \"org.postgresql.Driver\"\n",
    "\n",
    "database_host = \"<database-host-url>\"\n",
    "database_port = \"5432\" # update if you use a non-default port\n",
    "database_name = \"<database-name>\" # eg. postgres\n",
    "table = \"<table-name>\" # if your table is in a non-default schema, set as <schema>.<table-name> \n",
    "user = \"<username>\"\n",
    "password = \"<password>\"\n",
    "\n",
    "url = f\"jdbc:postgresql://{database_host}:{database_port}/{database_name}\"\n",
    "\n",
    "print(url)"
   ]
  },
  {
   "cell_type": "markdown",
   "metadata": {
    "application/vnd.databricks.v1+cell": {
     "cellMetadata": {},
     "inputWidgets": {},
     "nuid": "722967e0-ddd1-4029-b069-2929d49e696f",
     "showTitle": false,
     "title": ""
    }
   },
   "source": [
    "\n",
    "The full URL printed out above should look something like:\n",
    "\n",
    "```\n",
    "jdbc:postgresql://localhost:5432/my_database\n",
    "```\n",
    "\n",
    "### Check connectivity\n",
    "\n",
    "Depending on security settings for your Postgres database and Databricks workspace, you may not have the proper ports open to connect.\n",
    "\n",
    "Replace `<database-host-url>` with the universal locator for your Postgres implementation. If you are using a non-default port, also update the 5432.\n",
    "\n",
    "Run the cell below to confirm Databricks can reach your Postgres database."
   ]
  },
  {
   "cell_type": "code",
   "execution_count": 0,
   "metadata": {
    "application/vnd.databricks.v1+cell": {
     "cellMetadata": {},
     "inputWidgets": {},
     "nuid": "f0ed3cb6-946c-4002-ad4d-3066d33e9c9c",
     "showTitle": false,
     "title": ""
    }
   },
   "outputs": [],
   "source": [
    "%sh\n",
    "nc -vz \"<database-host-url>\" 5432"
   ]
  },
  {
   "cell_type": "markdown",
   "metadata": {
    "application/vnd.databricks.v1+cell": {
     "cellMetadata": {},
     "inputWidgets": {},
     "nuid": "165cb68e-c818-4c26-8157-2a47b553bb84",
     "showTitle": false,
     "title": ""
    }
   },
   "source": [
    "\n",
    "## Step 2: Reading the data\n",
    "\n",
    "Now that you've specified the file metadata, you can create a DataFrame. Use an *option* to infer the data schema from the file. You can also explicitly set this to a particular schema if you have one already.\n",
    "\n",
    "First, create a DataFrame in Python, referencing the variables defined above."
   ]
  },
  {
   "cell_type": "code",
   "execution_count": 0,
   "metadata": {
    "application/vnd.databricks.v1+cell": {
     "cellMetadata": {},
     "inputWidgets": {},
     "nuid": "f9b34fa8-1e55-41aa-926f-60e17096434c",
     "showTitle": false,
     "title": ""
    }
   },
   "outputs": [],
   "source": [
    "remote_table = (spark.read\n",
    "    .format(\"jdbc\")\n",
    "    .option(\"driver\", driver)\n",
    "    .option(\"url\", url)\n",
    "    .option(\"dbtable\", table)\n",
    "    .option(\"user\", user)\n",
    "    .option(\"password\", password)\n",
    "    .load()\n",
    ")"
   ]
  },
  {
   "cell_type": "markdown",
   "metadata": {
    "application/vnd.databricks.v1+cell": {
     "cellMetadata": {},
     "inputWidgets": {},
     "nuid": "a3b5d264-33f9-4fe0-8d63-3a8b94f6c307",
     "showTitle": false,
     "title": ""
    }
   },
   "source": [
    "You can view the results of this remote table query."
   ]
  },
  {
   "cell_type": "code",
   "execution_count": 0,
   "metadata": {
    "application/vnd.databricks.v1+cell": {
     "cellMetadata": {},
     "inputWidgets": {},
     "nuid": "6a2818b1-ae98-45a4-9ad4-a5afefa31468",
     "showTitle": false,
     "title": ""
    }
   },
   "outputs": [],
   "source": [
    "display(remote_table)"
   ]
  },
  {
   "cell_type": "markdown",
   "metadata": {
    "application/vnd.databricks.v1+cell": {
     "cellMetadata": {},
     "inputWidgets": {},
     "nuid": "bd062767-206e-4be9-b418-818f802a2287",
     "showTitle": false,
     "title": ""
    }
   },
   "source": [
    "\n",
    "## Step 3: Create a Delta table\n",
    "\n",
    "The DataFrame defined and displayed above is a temporary connection to the remote database.\n",
    "\n",
    "To ensure that this data can be accessed by relevant users throughout your workspace, save it as a Delta Lake table using the code below."
   ]
  },
  {
   "cell_type": "code",
   "execution_count": 0,
   "metadata": {
    "application/vnd.databricks.v1+cell": {
     "cellMetadata": {},
     "inputWidgets": {},
     "nuid": "44724df6-f755-456f-9b74-ac16cc94be94",
     "showTitle": false,
     "title": ""
    }
   },
   "outputs": [],
   "source": [
    "target_table_name = \"<target-schema>.<target-table-name>\"\n",
    "remote_table.write.mode(\"overwrite\").saveAsTable(target_table_name)"
   ]
  },
  {
   "cell_type": "markdown",
   "metadata": {
    "application/vnd.databricks.v1+cell": {
     "cellMetadata": {},
     "inputWidgets": {},
     "nuid": "1a5cbc2d-63f8-49a6-bc52-65e965190385",
     "showTitle": false,
     "title": ""
    }
   },
   "source": [
    "\n",
    "This table will persist across cluster sessions, notebooks, and personas throughout your organization.\n",
    "\n",
    "The code below demonstrates querying this data with Python and SQL."
   ]
  },
  {
   "cell_type": "code",
   "execution_count": 0,
   "metadata": {
    "application/vnd.databricks.v1+cell": {
     "cellMetadata": {},
     "inputWidgets": {},
     "nuid": "fb76bb4f-ed3f-4e59-9957-17b14ff4e281",
     "showTitle": false,
     "title": ""
    }
   },
   "outputs": [],
   "source": [
    "display(spark.table(target_table_name))"
   ]
  },
  {
   "cell_type": "code",
   "execution_count": 0,
   "metadata": {
    "application/vnd.databricks.v1+cell": {
     "cellMetadata": {},
     "inputWidgets": {},
     "nuid": "cec73219-4ab5-4f36-b7ca-6611472aaff7",
     "showTitle": false,
     "title": ""
    }
   },
   "outputs": [],
   "source": [
    "%sql\n",
    "SELECT * FROM <target-schema>.<target-table-name>"
   ]
  }
 ],
 "metadata": {
  "application/vnd.databricks.v1+notebook": {
   "dashboards": [],
   "language": "python",
   "notebookMetadata": {
    "pythonIndentUnit": 2
   },
   "notebookName": "Import from Postgres - 2023-09-29",
   "widgets": {}
  }
 },
 "nbformat": 4,
 "nbformat_minor": 0
}
