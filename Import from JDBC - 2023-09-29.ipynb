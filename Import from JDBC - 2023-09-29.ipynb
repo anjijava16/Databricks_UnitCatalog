{
 "cells": [
  {
   "cell_type": "markdown",
   "metadata": {
    "application/vnd.databricks.v1+cell": {
     "cellMetadata": {},
     "inputWidgets": {},
     "nuid": "96816ed7-b08a-4ca3-abb9-f99880c3535d",
     "showTitle": false,
     "title": ""
    }
   },
   "source": [
    "\n",
    "## Overview\n",
    "\n",
    "This notebook shows you how to load data from JDBC databases using Spark SQL.\n",
    "\n",
    "*For production, you should control the level of parallelism used to read data from the external database, using the parameters described in the documentation.*"
   ]
  },
  {
   "cell_type": "markdown",
   "metadata": {
    "application/vnd.databricks.v1+cell": {
     "cellMetadata": {},
     "inputWidgets": {},
     "nuid": "84d079e4-93e8-460d-9d95-54a3fa326ca1",
     "showTitle": false,
     "title": ""
    }
   },
   "source": [
    "\n",
    "### Step 1: Connection Information\n",
    "\n",
    "This is a **Python** notebook so the default cell type is Python. However, you can use different languages by using the `%LANGUAGE` magic command. Python, Scala, SQL, and R are all supported.\n",
    "\n",
    "First we'll define some variables to let us programmatically create these connections."
   ]
  },
  {
   "cell_type": "code",
   "execution_count": 0,
   "metadata": {
    "application/vnd.databricks.v1+cell": {
     "cellMetadata": {},
     "inputWidgets": {},
     "nuid": "6482be4c-f067-47c9-b0ac-35c938b94601",
     "showTitle": false,
     "title": ""
    }
   },
   "outputs": [],
   "source": [
    "driver = \"org.postgresql.Driver\"\n",
    "url = \"jdbc:postgresql://database_server\"\n",
    "table = \"schema.tablename\"\n",
    "user = \"\"\n",
    "password = \"\""
   ]
  },
  {
   "cell_type": "markdown",
   "metadata": {
    "application/vnd.databricks.v1+cell": {
     "cellMetadata": {},
     "inputWidgets": {},
     "nuid": "51114086-25f5-4c9c-8bb3-64ff28b0f0f4",
     "showTitle": false,
     "title": ""
    }
   },
   "source": [
    "\n",
    "### Step 2: Reading the data\n",
    "\n",
    "Now that we specified our file metadata, we can create a DataFrame. You'll notice that we use an *option* to specify that we'd like to infer the schema from the file. We can also explicitly set this to a particular schema if we have one already.\n",
    "\n",
    "First, let's create a DataFrame in Python, notice how we will programmatically reference the variables we defined above."
   ]
  },
  {
   "cell_type": "code",
   "execution_count": 0,
   "metadata": {
    "application/vnd.databricks.v1+cell": {
     "cellMetadata": {},
     "inputWidgets": {},
     "nuid": "f6366891-7da1-478e-8094-4291f4fca976",
     "showTitle": false,
     "title": ""
    }
   },
   "outputs": [],
   "source": [
    "remote_table = (\n",
    "  spark.read.format(\"jdbc\") \\\n",
    "    .option(\"driver\", driver)\n",
    "    .option(\"url\", url)\n",
    "    .option(\"dbtable\", table)\n",
    "    .option(\"user\", user)\n",
    "    .option(\"password\", password)\n",
    "    # The following options configure parallelism for the query. This is required to get better performance, otherwise only a single thread will read all the data\n",
    "    # a column that can be used that has a uniformly distributed range of values that can be used for parallelization\n",
    "    # .option(\"partitionColumn\", \"partition_key\")\n",
    "    # lowest value to pull data for with the partitionColumn\n",
    "    # .option(\"lowerBound\", \"minValue\")\n",
    "    # max value to pull data for with the partitionColumn\n",
    "    # .option(\"upperBound\", \"maxValue\")\n",
    "    # number of partitions to distribute the data into. Do not set this very large (~hundreds) to not overwhelm your database\n",
    "    # .option(\"numPartitions\", <cluster_cores>)\n",
    "    .load()\n",
    ")"
   ]
  },
  {
   "cell_type": "markdown",
   "metadata": {
    "application/vnd.databricks.v1+cell": {
     "cellMetadata": {},
     "inputWidgets": {},
     "nuid": "92108b48-e8f5-4d0d-9d24-3775b36ca207",
     "showTitle": false,
     "title": ""
    }
   },
   "source": [
    "\n",
    "### Step 3: Querying the data\n",
    "\n",
    "Now that we created our DataFrame. We can query it. For instance, you can select some particular columns to select and display within Databricks."
   ]
  },
  {
   "cell_type": "code",
   "execution_count": 0,
   "metadata": {
    "application/vnd.databricks.v1+cell": {
     "cellMetadata": {},
     "inputWidgets": {},
     "nuid": "fec0eb47-1220-48a6-81b4-adb261a7265a",
     "showTitle": false,
     "title": ""
    }
   },
   "outputs": [],
   "source": [
    "display(remote_table.select(\"EXAMPLE_COLUMN\"))"
   ]
  },
  {
   "cell_type": "markdown",
   "metadata": {
    "application/vnd.databricks.v1+cell": {
     "cellMetadata": {},
     "inputWidgets": {},
     "nuid": "8abe7239-0632-4b90-baf0-38549b038a38",
     "showTitle": false,
     "title": ""
    }
   },
   "source": [
    "\n",
    "### Step 4: (Optional) Create a view or table\n",
    "\n",
    "If you'd like to be able to use query this data as a table, it is simple to register it as a *view* or a table."
   ]
  },
  {
   "cell_type": "code",
   "execution_count": 0,
   "metadata": {
    "application/vnd.databricks.v1+cell": {
     "cellMetadata": {},
     "inputWidgets": {},
     "nuid": "88f300bc-d77c-4cea-b950-fdebb696a3a3",
     "showTitle": false,
     "title": ""
    }
   },
   "outputs": [],
   "source": [
    "remote_table.createOrReplaceTempView(\"YOUR_TEMP_VIEW_NAME\")"
   ]
  },
  {
   "cell_type": "markdown",
   "metadata": {
    "application/vnd.databricks.v1+cell": {
     "cellMetadata": {},
     "inputWidgets": {},
     "nuid": "8abbb176-6708-4684-86df-50e35b77d223",
     "showTitle": false,
     "title": ""
    }
   },
   "source": [
    "\n",
    "We can query this using Spark SQL. For instance, we can perform a simple aggregation. Notice how we can use `%sql` in order to query the view from SQL."
   ]
  },
  {
   "cell_type": "code",
   "execution_count": 0,
   "metadata": {
    "application/vnd.databricks.v1+cell": {
     "cellMetadata": {},
     "inputWidgets": {},
     "nuid": "a41b3f47-6033-4512-816a-1bff6b94fae4",
     "showTitle": false,
     "title": ""
    }
   },
   "outputs": [],
   "source": [
    "%sql\n",
    "\n",
    "SELECT EXAMPLE_GROUP, SUM(EXAMPLE_AGG) FROM YOUR_TEMP_VIEW_NAME GROUP BY EXAMPLE_GROUP"
   ]
  },
  {
   "cell_type": "markdown",
   "metadata": {
    "application/vnd.databricks.v1+cell": {
     "cellMetadata": {},
     "inputWidgets": {},
     "nuid": "be4f71a4-2c5b-4df4-8b5b-16b9c17c057a",
     "showTitle": false,
     "title": ""
    }
   },
   "source": [
    "\n",
    "Since this table is registered as a temp view, it will be available only to this notebook. If you'd like other users to be able to query this table, you can also create a table from the DataFrame."
   ]
  },
  {
   "cell_type": "code",
   "execution_count": 0,
   "metadata": {
    "application/vnd.databricks.v1+cell": {
     "cellMetadata": {},
     "inputWidgets": {},
     "nuid": "db9631f6-bb4a-42ca-8a3c-0d48af932331",
     "showTitle": false,
     "title": ""
    }
   },
   "outputs": [],
   "source": [
    "remote_table.write.format(\"delta\").saveAsTable(\"MY_PERMANENT_TABLE_NAME\")"
   ]
  },
  {
   "cell_type": "markdown",
   "metadata": {
    "application/vnd.databricks.v1+cell": {
     "cellMetadata": {},
     "inputWidgets": {},
     "nuid": "0880bffd-4f8d-4565-8428-ace92f92a53c",
     "showTitle": false,
     "title": ""
    }
   },
   "source": [
    "\n",
    "This table will persist across cluster restarts as well as allow various users across different notebooks to query this data. However, this will not connect back to the original database when doing so."
   ]
  }
 ],
 "metadata": {
  "application/vnd.databricks.v1+notebook": {
   "dashboards": [],
   "language": "python",
   "notebookMetadata": {
    "pythonIndentUnit": 2
   },
   "notebookName": "Import from JDBC - 2023-09-29",
   "widgets": {}
  }
 },
 "nbformat": 4,
 "nbformat_minor": 0
}
